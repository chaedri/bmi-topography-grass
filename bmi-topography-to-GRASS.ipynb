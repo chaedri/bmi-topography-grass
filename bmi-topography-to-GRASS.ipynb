{
 "cells": [
  {
   "cell_type": "markdown",
   "id": "44918f53",
   "metadata": {},
   "source": [
    "# BMI Topography to GRASS GIS"
   ]
  },
  {
   "cell_type": "markdown",
   "id": "711a7bf1-1404-4ec8-9e29-7d75e259015c",
   "metadata": {},
   "source": [
    "## Imports"
   ]
  },
  {
   "cell_type": "code",
   "execution_count": null,
   "id": "0bc7ac8b",
   "metadata": {
    "tags": []
   },
   "outputs": [],
   "source": [
    "import matplotlib.pyplot as plt\n",
    "import numpy as np\n",
    "from bmi_topography import Topography\n",
    "import subprocess\n",
    "import sys"
   ]
  },
  {
   "cell_type": "code",
   "execution_count": null,
   "id": "6ec945e3-cb82-4b69-a28d-5413b02963e3",
   "metadata": {
    "tags": []
   },
   "outputs": [],
   "source": [
    "# Ask GRASS GIS where its Python packages are.\n",
    "sys.path.append(\n",
    "    subprocess.check_output([\"grass\", \"--config\", \"python_path\"], text=True).strip()\n",
    ")\n",
    "\n",
    "# Import GRASS packages\n",
    "import grass.script as gs\n",
    "import grass.jupyter as gj"
   ]
  },
  {
   "cell_type": "markdown",
   "id": "68cd2f40-37ab-48e6-b8ec-82cf0652d99e",
   "metadata": {},
   "source": [
    "## Create Project"
   ]
  },
  {
   "cell_type": "code",
   "execution_count": null,
   "id": "569c7813-8ef9-4802-b8b2-06402d44a99c",
   "metadata": {
    "tags": []
   },
   "outputs": [],
   "source": [
    "!grass -e -c EPSG:32613 $HOME/bmi-topography-grass/colorado"
   ]
  },
  {
   "cell_type": "markdown",
   "id": "7c58a864-475c-4d94-89e6-3d6e44e21d7c",
   "metadata": {},
   "source": [
    "## Start GRASS Session"
   ]
  },
  {
   "cell_type": "code",
   "execution_count": null,
   "id": "ff91d13d-73a1-4bfa-bc99-c3ecf76b2c8b",
   "metadata": {
    "tags": []
   },
   "outputs": [],
   "source": [
    "# Start GRASS Session\n",
    "gj.init(\"./colorado/PERMANENT/\")"
   ]
  },
  {
   "cell_type": "code",
   "execution_count": null,
   "id": "9bf7c02e-b437-426f-b0f4-54bf4af5c857",
   "metadata": {
    "tags": []
   },
   "outputs": [],
   "source": [
    "print(gs.read_command(\"g.region\", flags=\"p\"))"
   ]
  },
  {
   "cell_type": "markdown",
   "id": "c554b7d8-ed55-41b0-81ce-cf0f40af7a98",
   "metadata": {},
   "source": [
    "## Fetch Data with `bmi_topography`"
   ]
  },
  {
   "cell_type": "code",
   "execution_count": null,
   "id": "83f5f184-2358-402d-8c5d-bf0bfda89260",
   "metadata": {
    "tags": []
   },
   "outputs": [],
   "source": [
    "width = 0.05\n",
    "dem = Topography(\n",
    "    north=40.16 + width,\n",
    "    south=40.14 - width,\n",
    "    east=-105.4 + width,\n",
    "    west=-105.5 - width,\n",
    "    dem_type=\"SRTMGL3\",\n",
    "    output_format=\"GTiff\"\n",
    ")\n",
    "\n",
    "fname = dem.fetch()"
   ]
  },
  {
   "cell_type": "markdown",
   "id": "43b3bea4-8633-47ce-8bf0-212bbd1ab8f3",
   "metadata": {},
   "source": [
    "## Import DEM into GRASS"
   ]
  },
  {
   "cell_type": "code",
   "execution_count": null,
   "id": "bc122537-d52f-4b9d-a062-5a5eb6d91a91",
   "metadata": {
    "tags": []
   },
   "outputs": [],
   "source": [
    "# Import\n",
    "gs.run_command(\"r.import\", input=fname, output=\"dem\", resolution=\"value\", resolution_value=50)"
   ]
  },
  {
   "cell_type": "code",
   "execution_count": null,
   "id": "b4e31d6a-429e-455f-b62f-2f7fefa8b27e",
   "metadata": {
    "tags": []
   },
   "outputs": [],
   "source": [
    "# Change computational region to DEM\n",
    "gs.run_command(\"g.region\", raster=\"dem\", flags=\"p\")"
   ]
  },
  {
   "cell_type": "code",
   "execution_count": null,
   "id": "2e6892aa-b235-47f2-be10-064e9805f8e3",
   "metadata": {
    "tags": []
   },
   "outputs": [],
   "source": [
    "omg = gj.Map()\n",
    "omg.d_rast(map=\"dem\")\n",
    "omg.show()"
   ]
  },
  {
   "cell_type": "markdown",
   "id": "bc59aa8f-2022-4fbb-86f6-a5667211348b",
   "metadata": {},
   "source": [
    "## Insert your GRASS analysis here..."
   ]
  },
  {
   "cell_type": "code",
   "execution_count": null,
   "id": "b8136a51-bbf2-4397-af0f-10f87b04ee98",
   "metadata": {},
   "outputs": [],
   "source": []
  },
  {
   "cell_type": "code",
   "execution_count": null,
   "id": "dd342392-9d12-43b1-9378-05c23d059633",
   "metadata": {},
   "outputs": [],
   "source": []
  },
  {
   "cell_type": "markdown",
   "id": "9ef51452-b6e0-47d3-b959-a3d506fcb4c0",
   "metadata": {},
   "source": [
    "## Some Export Options"
   ]
  },
  {
   "cell_type": "markdown",
   "id": "401e72ea-3f4a-4779-aa6d-e1126b45add0",
   "metadata": {},
   "source": [
    "### Export to GeoTiff"
   ]
  },
  {
   "cell_type": "code",
   "execution_count": null,
   "id": "5ea360d7-fa5e-40a6-ae54-348553a8083d",
   "metadata": {
    "tags": []
   },
   "outputs": [],
   "source": [
    "gs.run_command(\"r.out.gdal\", input=\"dem\", output=\"dem.tif\")"
   ]
  },
  {
   "cell_type": "markdown",
   "id": "3dff3e4d-8f84-41bb-8dd8-8438d73269a5",
   "metadata": {},
   "source": [
    "Check your file browser panel and you should see a new file!"
   ]
  },
  {
   "cell_type": "markdown",
   "id": "0edc7eee-ae20-41ed-bcde-febc77e25d52",
   "metadata": {},
   "source": [
    "### Export to RasterGridModel"
   ]
  },
  {
   "cell_type": "code",
   "execution_count": null,
   "id": "9b8cf32a-b350-40e6-ba2c-2b9114b97951",
   "metadata": {
    "tags": []
   },
   "outputs": [],
   "source": [
    "# Additional Imports\n",
    "import grass.script.array as garray\n",
    "from landlab import RasterModelGrid, imshow_grid"
   ]
  },
  {
   "cell_type": "markdown",
   "id": "7412e7c8-55c0-4e63-81b8-95d56818cdd2",
   "metadata": {},
   "source": [
    "We're going to use info about the raster to determine the spacing and shape of the RasterModelGrid. `raster_info` returns a dictionary where we can get the resolution and dimensions of the raster."
   ]
  },
  {
   "cell_type": "code",
   "execution_count": null,
   "id": "ecfe9d6c-d818-42cd-b354-ff15b01ccf80",
   "metadata": {
    "tags": []
   },
   "outputs": [],
   "source": [
    "gs.raster_info(map=\"dem\")"
   ]
  },
  {
   "cell_type": "code",
   "execution_count": null,
   "id": "ee1313ce-4674-437d-aca2-d4d950e565a9",
   "metadata": {
    "tags": []
   },
   "outputs": [],
   "source": [
    "raster_info = gs.raster_info(map=\"dem\")\n",
    "\n",
    "# Make sure the east and west resolution is the same (since RasterModelGrid has one xy_spacing value)\n",
    "assert raster_info['ewres']==raster_info['nsres']\n",
    "\n",
    "# Get spacing and shape for RasterModelGrid\n",
    "spacing = raster_info['nsres']\n",
    "shape = (int(raster_info['rows']), int(raster_info['cols']))"
   ]
  },
  {
   "cell_type": "markdown",
   "id": "17ad3738-ef76-4f66-bd67-f663828b720c",
   "metadata": {},
   "source": [
    "Now that we have the spacing and shape of the array, we'll get the raster as an array and then flip and flatten to match the RasterModelGrid pattern."
   ]
  },
  {
   "cell_type": "code",
   "execution_count": null,
   "id": "4f75b16b-a848-44b0-a046-61a8eadbc98c",
   "metadata": {
    "tags": []
   },
   "outputs": [],
   "source": [
    "# Get GRASS Elevation Raster as np array\n",
    "elev = garray.array(\"dem\")\n",
    "\n",
    "# Flip and flatten to match RasterModelGrid node pattern\n",
    "flip = np.flip(elev, 0)\n",
    "flat_elev = flip.flatten()"
   ]
  },
  {
   "cell_type": "markdown",
   "id": "6134a72b-266f-4e86-9a10-5b9bf7b829ba",
   "metadata": {},
   "source": [
    "Finally, make the grid object and assign node values!"
   ]
  },
  {
   "cell_type": "code",
   "execution_count": null,
   "id": "2950290b-3987-487f-8068-c735fee9cc3b",
   "metadata": {
    "tags": []
   },
   "outputs": [],
   "source": [
    "# Make our RasterModelGrid using info from GRASS\n",
    "grid = RasterModelGrid(shape, xy_spacing=spacing)\n",
    "grid.at_node[\"topographic__elevation\"] = flat_elev"
   ]
  },
  {
   "cell_type": "markdown",
   "id": "c675323b-eaf9-4076-9ec7-e439c41b3819",
   "metadata": {},
   "source": [
    "Check out the results.."
   ]
  },
  {
   "cell_type": "code",
   "execution_count": null,
   "id": "704458e1-0e50-41a7-a94d-54e11ae26cc8",
   "metadata": {
    "tags": []
   },
   "outputs": [],
   "source": [
    "imshow_grid(grid,'topographic__elevation')"
   ]
  }
 ],
 "metadata": {
  "kernelspec": {
   "display_name": "Ivy",
   "language": "python",
   "name": "ivy"
  },
  "language_info": {
   "codemirror_mode": {
    "name": "ipython",
    "version": 3
   },
   "file_extension": ".py",
   "mimetype": "text/x-python",
   "name": "python",
   "nbconvert_exporter": "python",
   "pygments_lexer": "ipython3",
   "version": "3.11.7"
  }
 },
 "nbformat": 4,
 "nbformat_minor": 5
}
